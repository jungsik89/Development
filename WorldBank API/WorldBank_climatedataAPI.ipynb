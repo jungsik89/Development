{
 "cells": [
  {
   "cell_type": "code",
   "execution_count": 3,
   "metadata": {},
   "outputs": [],
   "source": [
    "import pandas as pd\n",
    "import matplotlib.pyplot as plt\n",
    "import numpy as np\n",
    "import requests\n",
    "import os\n",
    "#from config import key"
   ]
  },
  {
   "cell_type": "code",
   "execution_count": 12,
   "metadata": {},
   "outputs": [],
   "source": [
    "type_worldbank = 'annualavg'\n",
    "var_worldbank = 'tas'\n",
    "start_date ='1930'\n",
    "end_date ='1939'\n",
    "ISO3 = 'CAN'\n",
    "version = 'v2'\n",
    "\n",
    "\n",
    "\n",
    "#mavg, \n",
    "params={\n",
    "    'type':type_worldbank,\n",
    "    'var':var_worldbank,\n",
    "    'start':start_date,\n",
    "    'end':end_date,\n",
    "    'ISO3':ISO3\n",
    "    }\n",
    "\n",
    "default_url = 'http://climatedataapi.worldbank.org/climateweb/rest/'\n",
    "url = 'http://climatedataapi.worldbank.org/climateweb/rest/v2/country/CAN/indicator/SP.POP.TOTL.'\n",
    "#http://climatedataapi.worldbank.org/climateweb/rest/v1/country/\n",
    "\n",
    "query_url = f'http://climatedataapi.worldbank.org/climateweb/rest/v2/country/{type_worldbank}/{var_worldbank}/{start_date}/{end_date}/{ISO3}'\n"
   ]
  },
  {
   "cell_type": "code",
   "execution_count": 13,
   "metadata": {},
   "outputs": [],
   "source": [
    "response = requests.get(url).json()"
   ]
  },
  {
   "cell_type": "code",
   "execution_count": 14,
   "metadata": {},
   "outputs": [
    {
     "data": {
      "text/plain": [
       "{'fault': {'faultstring': 'Unable to identify proxy for host: climatedata and url: /climateweb/rest/v2/country/CAN/indicator/SP.POP.TOTL.',\n",
       "  'detail': {'errorcode': 'messaging.adaptors.http.flow.ApplicationNotFound'}}}"
      ]
     },
     "execution_count": 14,
     "metadata": {},
     "output_type": "execute_result"
    }
   ],
   "source": [
    "response"
   ]
  },
  {
   "cell_type": "code",
   "execution_count": null,
   "metadata": {},
   "outputs": [],
   "source": []
  },
  {
   "cell_type": "code",
   "execution_count": null,
   "metadata": {},
   "outputs": [],
   "source": []
  }
 ],
 "metadata": {
  "kernelspec": {
   "display_name": "Python 3",
   "language": "python",
   "name": "python3"
  },
  "language_info": {
   "codemirror_mode": {
    "name": "ipython",
    "version": 3
   },
   "file_extension": ".py",
   "mimetype": "text/x-python",
   "name": "python",
   "nbconvert_exporter": "python",
   "pygments_lexer": "ipython3",
   "version": "3.7.3"
  }
 },
 "nbformat": 4,
 "nbformat_minor": 2
}
